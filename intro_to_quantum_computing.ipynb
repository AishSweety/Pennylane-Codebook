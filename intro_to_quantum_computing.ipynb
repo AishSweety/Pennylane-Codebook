{
  "nbformat": 4,
  "nbformat_minor": 0,
  "metadata": {
    "colab": {
      "provenance": []
    },
    "kernelspec": {
      "name": "python3",
      "display_name": "Python 3"
    },
    "language_info": {
      "name": "python"
    }
  },
  "cells": [
    {
      "cell_type": "code",
      "execution_count": 1,
      "metadata": {
        "colab": {
          "base_uri": "https://localhost:8080/"
        },
        "collapsed": true,
        "id": "6Lse8qplobjt",
        "outputId": "771f0a2f-da83-4302-a3d9-1c2fbbfc905b"
      },
      "outputs": [
        {
          "output_type": "stream",
          "name": "stdout",
          "text": [
            "Collecting pennylane\n",
            "  Downloading PennyLane-0.41.1-py3-none-any.whl.metadata (10 kB)\n",
            "Requirement already satisfied: numpy in /usr/local/lib/python3.11/dist-packages (from pennylane) (2.0.2)\n",
            "Requirement already satisfied: scipy in /usr/local/lib/python3.11/dist-packages (from pennylane) (1.15.3)\n",
            "Requirement already satisfied: networkx in /usr/local/lib/python3.11/dist-packages (from pennylane) (3.5)\n",
            "Collecting rustworkx>=0.14.0 (from pennylane)\n",
            "  Downloading rustworkx-0.16.0-cp39-abi3-manylinux_2_17_x86_64.manylinux2014_x86_64.whl.metadata (10 kB)\n",
            "Requirement already satisfied: autograd in /usr/local/lib/python3.11/dist-packages (from pennylane) (1.8.0)\n",
            "Requirement already satisfied: tomlkit in /usr/local/lib/python3.11/dist-packages (from pennylane) (0.13.3)\n",
            "Collecting appdirs (from pennylane)\n",
            "  Downloading appdirs-1.4.4-py2.py3-none-any.whl.metadata (9.0 kB)\n",
            "Collecting autoray>=0.6.11 (from pennylane)\n",
            "  Downloading autoray-0.7.1-py3-none-any.whl.metadata (5.8 kB)\n",
            "Requirement already satisfied: cachetools in /usr/local/lib/python3.11/dist-packages (from pennylane) (5.5.2)\n",
            "Collecting pennylane-lightning>=0.41 (from pennylane)\n",
            "  Downloading pennylane_lightning-0.41.1-cp311-cp311-manylinux_2_28_x86_64.whl.metadata (12 kB)\n",
            "Requirement already satisfied: requests in /usr/local/lib/python3.11/dist-packages (from pennylane) (2.32.3)\n",
            "Requirement already satisfied: typing-extensions in /usr/local/lib/python3.11/dist-packages (from pennylane) (4.14.0)\n",
            "Requirement already satisfied: packaging in /usr/local/lib/python3.11/dist-packages (from pennylane) (24.2)\n",
            "Collecting diastatic-malt (from pennylane)\n",
            "  Downloading diastatic_malt-2.15.2-py3-none-any.whl.metadata (2.6 kB)\n",
            "Collecting scipy-openblas32>=0.3.26 (from pennylane-lightning>=0.41->pennylane)\n",
            "  Downloading scipy_openblas32-0.3.30.0.1-py3-none-manylinux2014_x86_64.manylinux_2_17_x86_64.whl.metadata (57 kB)\n",
            "\u001b[2K     \u001b[90m━━━━━━━━━━━━━━━━━━━━━━━━━━━━━━━━━━━━━━━━\u001b[0m \u001b[32m57.1/57.1 kB\u001b[0m \u001b[31m2.5 MB/s\u001b[0m eta \u001b[36m0:00:00\u001b[0m\n",
            "\u001b[?25hRequirement already satisfied: astunparse in /usr/local/lib/python3.11/dist-packages (from diastatic-malt->pennylane) (1.6.3)\n",
            "Requirement already satisfied: gast in /usr/local/lib/python3.11/dist-packages (from diastatic-malt->pennylane) (0.6.0)\n",
            "Requirement already satisfied: termcolor in /usr/local/lib/python3.11/dist-packages (from diastatic-malt->pennylane) (3.1.0)\n",
            "Requirement already satisfied: charset-normalizer<4,>=2 in /usr/local/lib/python3.11/dist-packages (from requests->pennylane) (3.4.2)\n",
            "Requirement already satisfied: idna<4,>=2.5 in /usr/local/lib/python3.11/dist-packages (from requests->pennylane) (3.10)\n",
            "Requirement already satisfied: urllib3<3,>=1.21.1 in /usr/local/lib/python3.11/dist-packages (from requests->pennylane) (2.4.0)\n",
            "Requirement already satisfied: certifi>=2017.4.17 in /usr/local/lib/python3.11/dist-packages (from requests->pennylane) (2025.6.15)\n",
            "Requirement already satisfied: wheel<1.0,>=0.23.0 in /usr/local/lib/python3.11/dist-packages (from astunparse->diastatic-malt->pennylane) (0.45.1)\n",
            "Requirement already satisfied: six<2.0,>=1.6.1 in /usr/local/lib/python3.11/dist-packages (from astunparse->diastatic-malt->pennylane) (1.17.0)\n",
            "Downloading PennyLane-0.41.1-py3-none-any.whl (2.3 MB)\n",
            "\u001b[2K   \u001b[90m━━━━━━━━━━━━━━━━━━━━━━━━━━━━━━━━━━━━━━━━\u001b[0m \u001b[32m2.3/2.3 MB\u001b[0m \u001b[31m34.8 MB/s\u001b[0m eta \u001b[36m0:00:00\u001b[0m\n",
            "\u001b[?25hDownloading autoray-0.7.1-py3-none-any.whl (930 kB)\n",
            "\u001b[2K   \u001b[90m━━━━━━━━━━━━━━━━━━━━━━━━━━━━━━━━━━━━━━━━\u001b[0m \u001b[32m930.8/930.8 kB\u001b[0m \u001b[31m55.8 MB/s\u001b[0m eta \u001b[36m0:00:00\u001b[0m\n",
            "\u001b[?25hDownloading pennylane_lightning-0.41.1-cp311-cp311-manylinux_2_28_x86_64.whl (2.5 MB)\n",
            "\u001b[2K   \u001b[90m━━━━━━━━━━━━━━━━━━━━━━━━━━━━━━━━━━━━━━━━\u001b[0m \u001b[32m2.5/2.5 MB\u001b[0m \u001b[31m81.5 MB/s\u001b[0m eta \u001b[36m0:00:00\u001b[0m\n",
            "\u001b[?25hDownloading rustworkx-0.16.0-cp39-abi3-manylinux_2_17_x86_64.manylinux2014_x86_64.whl (2.1 MB)\n",
            "\u001b[2K   \u001b[90m━━━━━━━━━━━━━━━━━━━━━━━━━━━━━━━━━━━━━━━━\u001b[0m \u001b[32m2.1/2.1 MB\u001b[0m \u001b[31m78.0 MB/s\u001b[0m eta \u001b[36m0:00:00\u001b[0m\n",
            "\u001b[?25hDownloading appdirs-1.4.4-py2.py3-none-any.whl (9.6 kB)\n",
            "Downloading diastatic_malt-2.15.2-py3-none-any.whl (167 kB)\n",
            "\u001b[2K   \u001b[90m━━━━━━━━━━━━━━━━━━━━━━━━━━━━━━━━━━━━━━━━\u001b[0m \u001b[32m167.9/167.9 kB\u001b[0m \u001b[31m14.6 MB/s\u001b[0m eta \u001b[36m0:00:00\u001b[0m\n",
            "\u001b[?25hDownloading scipy_openblas32-0.3.30.0.1-py3-none-manylinux2014_x86_64.manylinux_2_17_x86_64.whl (8.6 MB)\n",
            "\u001b[2K   \u001b[90m━━━━━━━━━━━━━━━━━━━━━━━━━━━━━━━━━━━━━━━━\u001b[0m \u001b[32m8.6/8.6 MB\u001b[0m \u001b[31m110.7 MB/s\u001b[0m eta \u001b[36m0:00:00\u001b[0m\n",
            "\u001b[?25hInstalling collected packages: appdirs, scipy-openblas32, rustworkx, autoray, diastatic-malt, pennylane-lightning, pennylane\n",
            "Successfully installed appdirs-1.4.4 autoray-0.7.1 diastatic-malt-2.15.2 pennylane-0.41.1 pennylane-lightning-0.41.1 rustworkx-0.16.0 scipy-openblas32-0.3.30.0.1\n"
          ]
        }
      ],
      "source": [
        "!pip install pennylane"
      ]
    },
    {
      "cell_type": "code",
      "source": [
        "import pennylane as qml\n",
        "import numpy as np"
      ],
      "metadata": {
        "id": "SSDXMzgWotNh"
      },
      "execution_count": 3,
      "outputs": []
    },
    {
      "cell_type": "markdown",
      "source": [
        "#Codercise I.1.1\n",
        "\n",
        "In this codercise, you are given an unnormalized vector\n",
        "\n",
        "$$\n",
        "|\\psi\\rangle=\\alpha|0\\rangle+\\beta|1\\rangle, \\quad|\\alpha|^2+|\\beta|^2 \\neq 1 .\n",
        "$$\n",
        "\n",
        "\n",
        "We can turn this into an equivalent, valid quantum state $\\left|\\psi^{\\prime}\\right\\rangle$ by normalizing it. Your task is to complete the function normalize_state so that, given $\\alpha$ and $\\beta$, it normalizes this state to\n",
        "\n",
        "\n",
        "$$\n",
        "\\left|\\psi^{\\prime}\\right\\rangle=\\alpha^{\\prime}|0\\rangle+\\beta^{\\prime}|1\\rangle, \\quad\\left|\\alpha^{\\prime}\\right|^2+\\left|\\beta^{\\prime}\\right|^2=1 .\n",
        "$$\n",
        "\n",
        "Hint:\n",
        "\n",
        "What we must do here is essentially rescale the coefficients of the state vector such that it has unit length. That is, there must be some complex number $\\kappa$ such that $\\alpha^{\\prime}=\\kappa \\alpha, \\beta^{\\prime}=\\kappa \\beta$, and $\\left|\\alpha^{\\prime}\\right|^2+\\left|\\beta^{\\prime}\\right|^2=1$. Consider how you would do so for a\n",
        "real-valued vector; then determine how to manipulate the amplitudes in the complex case."
      ],
      "metadata": {
        "id": "k9egdE6hc-YV"
      }
    },
    {
      "cell_type": "code",
      "source": [
        "#Codercise I.1.1\n",
        "\n",
        "# Here are the vector representations of |0> and |1>, for convenience\n",
        "ket_0 = np.array([1, 0])\n",
        "ket_1 = np.array([0, 1])\n",
        "\n",
        "\n",
        "def normalize_state(alpha, beta):\n",
        "    \"\"\"Compute a normalized quantum state given arbitrary amplitudes.\n",
        "\n",
        "    Args:\n",
        "        alpha (complex): The amplitude associated with the |0> state.\n",
        "        beta (complex): The amplitude associated with the |1> state.\n",
        "\n",
        "    Returns:\n",
        "        np.array[complex]: A vector (numpy array) with 2 elements that represents\n",
        "        a normalized quantum state.\n",
        "    \"\"\"\n",
        "\n",
        "    norm = np.sqrt( abs(alpha) ** 2 + abs(beta) ** 2 )\n",
        "    norm_alpha = alpha/norm\n",
        "    norm_beta = beta/norm\n",
        "\n",
        "    # CREATE A VECTOR [a', b'] BASED ON alpha AND beta SUCH THAT |a'|^2 + |b'|^2 = 1\n",
        "\n",
        "    # RETURN A VECTOR\n",
        "    return np.array ([norm_alpha, norm_beta])\n",
        "    pass\n"
      ],
      "metadata": {
        "id": "W1M8okvJo4eS"
      },
      "execution_count": 4,
      "outputs": []
    },
    {
      "cell_type": "markdown",
      "source": [
        "#Codercise I.1.2\n",
        "\n",
        "Complete the inner_product function below that computes the inner product between two arbitrary states. Then, use it to verify that $|0\\rangle$ and $|1\\rangle$ form an orthonormal basis, i.e., the states are normalized and orthogonal.\n",
        "\n",
        "Example.\n",
        "Suppose we are given two states\n",
        "\n",
        "  state_1 = np.array([0.8, 0.6])\n",
        "\n",
        "  state_2 = np.array([1 / np.sqrt(2), 1j / np.sqrt(2)])\n",
        "\n",
        "Your function should compute and return the value of the inner product:\n",
        "\n",
        " 0.56568542-0.42426407j"
      ],
      "metadata": {
        "id": "xuQT1-HIdX_S"
      }
    },
    {
      "cell_type": "code",
      "source": [
        "#Codercise I.1.2\n",
        "\n",
        "def inner_product(state_1, state_2):\n",
        "    \"\"\"Compute the inner product between two states.\n",
        "\n",
        "    Args:\n",
        "        state_1 (np.array[complex]): A normalized quantum state vector\n",
        "        state_2 (np.array[complex]): A second normalized quantum state vector\n",
        "\n",
        "    Returns:\n",
        "        complex: The value of the inner product <state_1 | state_2>.\n",
        "    \"\"\"\n",
        "\n",
        "    ##################\n",
        "    # YOUR CODE HERE #\n",
        "    ##################\n",
        "\n",
        "\n",
        "    # COMPUTE AND RETURN THE INNER PRODUCT\n",
        "\n",
        "    return np.vdot(state_1,state_2)\n",
        "    # Return the dot product of two vectors where if the first argument is complex, the complex conjugate of the first argument is used for the calculation of the dot product.\n",
        "\n",
        "# Test your results with this code\n",
        "ket_0 = np.array([1, 0])\n",
        "ket_1 = np.array([0, 1])\n",
        "\n",
        "print(f\"<0|0> = {inner_product(ket_0, ket_0)}\")\n",
        "print(f\"<0|1> = {inner_product(ket_0, ket_1)}\")\n",
        "print(f\"<1|0> = {inner_product(ket_1, ket_0)}\")\n",
        "print(f\"<1|1> = {inner_product(ket_1, ket_1)}\")\n"
      ],
      "metadata": {
        "colab": {
          "base_uri": "https://localhost:8080/"
        },
        "id": "jsfedrG6o61W",
        "outputId": "55af2c54-2f26-4edd-a8f0-812fe8ac11ef"
      },
      "execution_count": 11,
      "outputs": [
        {
          "output_type": "stream",
          "name": "stdout",
          "text": [
            "<0|0> = 1\n",
            "<0|1> = 0\n",
            "<1|0> = 0\n",
            "<1|1> = 1\n"
          ]
        }
      ]
    },
    {
      "cell_type": "markdown",
      "source": [
        "#Codercise I.1.3\n",
        "\n",
        "Write the function measure_state that takes a quantum state vector as input and simulates the outcomes of an arbitrary number of quantum measurements, i.e., return a list of samples 0 or 1 based on the probabilities given by the input state.\n",
        "\n",
        "Example.\n",
        "Suppose we are given the state\n",
        "\n",
        "  state = np.array([0.8, 0.6])\n",
        "\n",
        "If we measure a qubit in this state, we'll observe $|0⟩$ 64% of the time, and $|1⟩$ 36% of the time. Therefore, an example set of 10 measurement outcomes might be\n",
        "\n",
        "[0, 1, 1, 1, 0, 1, 0, 0 ,0 ,0]\n",
        "\n",
        "Hint.\n",
        "The function np.random.choice will be helpful here."
      ],
      "metadata": {
        "id": "8opzfO3ujxuq"
      }
    },
    {
      "cell_type": "code",
      "source": [
        "#Codercise I.1.3\n",
        "\n",
        "def measure_state(state, num_meas):\n",
        "    \"\"\"Simulate a quantum measurement process.\n",
        "\n",
        "    Args:\n",
        "        state (np.array[complex]): A normalized qubit state vector.\n",
        "        num_meas (int): The number of measurements to take\n",
        "\n",
        "    Returns:\n",
        "        np.array[int]: A set of num_meas samples, 0 or 1, chosen according to the probability\n",
        "        distribution defined by the input state.\n",
        "    \"\"\"\n",
        "\n",
        "    ##################\n",
        "    # YOUR CODE HERE #\n",
        "    ##################\n",
        "\n",
        "    prob_0 = abs(state[0]) ** 2\n",
        "    prob_1 = abs(state[1]) ** 2\n",
        "    outcome = np.random.choice([0,1], size = num_meas, p = [prob_0, prob_1])\n",
        "    return outcome\n",
        "\n",
        "    # COMPUTE THE MEASUREMENT OUTCOME PROBABILITIES\n",
        "\n",
        "    # RETURN A LIST OF SAMPLE MEASUREMENT OUTCOMES\n",
        "\n",
        "    pass\n",
        "\n"
      ],
      "metadata": {
        "id": "yR70jQhw1oX1"
      },
      "execution_count": 12,
      "outputs": []
    },
    {
      "cell_type": "markdown",
      "source": [
        "#Codercise I.1.4\n",
        "\n",
        "Recall that quantum operations are represented as matrices. To preserve normalization, they must be a special type of matrix called a unitary matrix. For some $2 𝘅 2$ complex-valued unitary matrix $U$ the state of the qubit after an operation is\n",
        "\n",
        "$$|\\psi'\\rangle = U |\\psi\\rangle$$\n",
        "\n",
        "Let's simulate the process by completing the function apply_u below to apply the provided quantum operation U to an input state.\n",
        "\n",
        "Example.\n",
        "Consider the following unitary matrix and qubit state vector:\n",
        "\n",
        "  U = np.array([[0, 1], [1, 0]])\n",
        "\n",
        "  state = np.array([0.8, 0.6])\n",
        "\n",
        "If we apply U to state, we will receive the vector\n",
        "\n",
        "  np.array([0.6, 0.8])\n",
        "\n",
        "You can see that the output is still a valid normalized quantum state."
      ],
      "metadata": {
        "id": "07r_H-wtkjm5"
      }
    },
    {
      "cell_type": "code",
      "source": [
        "#Codercise I.1.4\n",
        "\n",
        "U = np.array([[1, 1], [1, -1]]) / np.sqrt(2)\n",
        "\n",
        "\n",
        "def apply_u(state):\n",
        "    \"\"\"Apply a quantum operation.\n",
        "\n",
        "    Args:\n",
        "        state (np.array[complex]): A normalized quantum state vector.\n",
        "\n",
        "    Returns:\n",
        "        np.array[complex]: The output state after applying U.\n",
        "    \"\"\"\n",
        "\n",
        "    ##################\n",
        "    # YOUR CODE HERE #\n",
        "    ##################\n",
        "\n",
        "    output_state = np.dot(U, state)\n",
        "    return output_state\n",
        "\n",
        "    # APPLY U TO THE INPUT STATE AND RETURN THE NEW STATE\n",
        "    pass\n"
      ],
      "metadata": {
        "id": "lvvbgUiQ6c4X"
      },
      "execution_count": 13,
      "outputs": []
    },
    {
      "cell_type": "markdown",
      "source": [
        "#Codercise I.1.5\n",
        "\n",
        "You may not have realized it, but you now have all the ingredients to write a very simple **quantum simulator** that can simulate the outcome of running quantum algorithms on a single qubit! Let's put everything together.\n",
        "\n",
        "Use the functions below to simulate a quantum algorithm that does the following:\n",
        "\n",
        "1. Initialize a qubit in state $|0\\rangle$\n",
        "2. Apply the provided operation $U$\n",
        "3. Simulate measuring the output state 100 times\n",
        "\n",
        "You'll have to complete a function for initialization, but we've provided functions for the other two."
      ],
      "metadata": {
        "id": "sU3wU7vbmHmd"
      }
    },
    {
      "cell_type": "code",
      "source": [
        "#Codercise I.1.5\n",
        "\n",
        "\n",
        "U = np.array([[1, 1], [1, -1]]) / np.sqrt(2)\n",
        "\n",
        "\n",
        "def initialize_state():\n",
        "    \"\"\"Prepare a qubit in state |0>.\n",
        "\n",
        "    Returns:\n",
        "        np.array[float]: the vector representation of state |0>.\n",
        "    \"\"\"\n",
        "\n",
        "    ##################\n",
        "    # YOUR CODE HERE #\n",
        "    ##################\n",
        "\n",
        "    # PREPARE THE STATE |0>\n",
        "    return np.array([1,0])\n",
        "    pass\n",
        "\n",
        "\n",
        "def apply_u(state):\n",
        "    \"\"\"Apply a quantum operation.\"\"\"\n",
        "    return np.dot(U, state)\n",
        "\n",
        "\n",
        "def measure_state(state, num_meas):\n",
        "    \"\"\"Measure a quantum state num_meas times.\"\"\"\n",
        "    p_alpha = np.abs(state[0]) ** 2\n",
        "    p_beta = np.abs(state[1]) ** 2\n",
        "    meas_outcome = np.random.choice([0, 1], p=[p_alpha, p_beta], size=num_meas)\n",
        "    return meas_outcome\n",
        "\n",
        "\n",
        "def quantum_algorithm():\n",
        "    \"\"\"Use the functions above to implement the quantum algorithm described above.\n",
        "\n",
        "    Try and do so using three lines of code or less!\n",
        "\n",
        "    Returns:\n",
        "        np.array[int]: the measurement results after running the algorithm 100 times\n",
        "    \"\"\"\n",
        "\n",
        "    ##################\n",
        "    # YOUR CODE HERE #\n",
        "    ##################\n",
        "\n",
        "    return  measure_state(apply_u(initialize_state()),100)\n",
        "\n",
        "    # PREPARE THE STATE, APPLY U, THEN TAKE 100 MEASUREMENT SAMPLES\n",
        "    pass"
      ],
      "metadata": {
        "id": "d6BI2qdP7WZz"
      },
      "execution_count": 14,
      "outputs": []
    },
    {
      "cell_type": "markdown",
      "source": [
        "#Codercise I.2.1\n",
        "\n",
        "The code below is a quantum function with all the gates from the circuit shown below. However, the gates are out of order! Re-arrange the lines of the function to match the order of operations in the circuit.\n",
        "![a.png](data:image/png;base64,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)"
      ],
      "metadata": {
        "id": "cIpQUQfami64"
      }
    },
    {
      "cell_type": "code",
      "source": [
        "#Codercise I.2.1\n",
        "\n",
        "def my_circuit(theta, phi):\n",
        "    ##################\n",
        "    # YOUR CODE HERE #\n",
        "    ##################\n",
        "\n",
        "    # REORDER THESE 5 GATES TO MATCH THE CIRCUIT IN THE PICTURE\n",
        "\n",
        "    qml.CNOT(wires=[0, 1])\n",
        "    qml.RX(theta, wires=2)\n",
        "    qml.Hadamard(wires=0)\n",
        "    qml.CNOT(wires=[2, 0])\n",
        "    qml.RY(phi, wires=1)\n",
        "\n",
        "    # This is the measurement; we return the probabilities of all possible output states\n",
        "    # You'll learn more about what types of measurements are available in a later node\n",
        "    return qml.probs(wires=[0, 1, 2])\n",
        "\n"
      ],
      "metadata": {
        "id": "xTu9M-Rf9vwh"
      },
      "execution_count": 15,
      "outputs": []
    },
    {
      "cell_type": "markdown",
      "source": [
        "#Codercise I.2.2\n",
        "\n",
        "Recall that one way in which we can turn our quantum circuits into QNodes is via the qml.QNode function:\n",
        "\n",
        "    my_qnode = qml.QNode(my_circuit, my_device)\n",
        "\n",
        "Once a QNode is created, it can be called like a function using the same parameters as the quantum function upon which it's built.\n",
        "\n",
        "Complete the quantum function in the PennyLane code below to implement the following quantum circuit. Then, construct a QNode using qml.QNode and run the circuit on the provided device.\n",
        "\n",
        "The mapping between the parameters in the circuit diagram and the parameters of the circuit in the code are θ →  theta, ϕ → phi, and ω → omega.\n",
        "\n",
        "![image.png](data:image/png;base64,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)"
      ],
      "metadata": {
        "id": "znv2-kYdr5_L"
      }
    },
    {
      "cell_type": "code",
      "source": [
        "#Codercise I.2.2\n",
        "\n",
        "# This creates a device with three wires on which PennyLane can run computations\n",
        "dev = qml.device(\"default.qubit\", wires=3)\n",
        "\n",
        "\n",
        "def my_circuit(theta, phi, omega):\n",
        "\n",
        "    ##################\n",
        "    # YOUR CODE HERE #\n",
        "    ##################\n",
        "\n",
        "    # IMPLEMENT THE CIRCUIT BY ADDING THE GATES\n",
        "\n",
        "    # Here are two examples, so you can see the format:\n",
        "\n",
        "    qml.RX(theta, wires=0)\n",
        "    qml.RY(phi, wires=1)\n",
        "    qml.RZ(omega, wires=2)\n",
        "    qml.CNOT(wires=[0, 1])\n",
        "    qml.CNOT(wires=[1, 2])\n",
        "    qml.CNOT(wires=[2, 0])\n",
        "\n",
        "    return qml.probs(wires=[0, 1, 2])\n",
        "\n",
        "\n",
        "# This creates a QNode, binding the function and device\n",
        "my_qnode = qml.QNode(my_circuit, dev)\n",
        "\n",
        "# We set up some values for the input parameters\n",
        "theta, phi, omega = 0.1, 0.2, 0.3\n",
        "\n",
        "# Now we can execute the QNode by calling it like we would a regular function\n",
        "my_qnode(theta, phi, omega)\n",
        "\n"
      ],
      "metadata": {
        "colab": {
          "base_uri": "https://localhost:8080/"
        },
        "id": "nOFCA5Iw81wx",
        "outputId": "6c1a3f20-5d88-4e73-b123-b308cd7d8452"
      },
      "execution_count": 16,
      "outputs": [
        {
          "output_type": "execute_result",
          "data": {
            "text/plain": [
              "array([9.87560268e-01, 0.00000000e+00, 0.00000000e+00, 2.47302134e-03,\n",
              "       2.48960206e-05, 0.00000000e+00, 0.00000000e+00, 9.94181506e-03])"
            ]
          },
          "metadata": {},
          "execution_count": 16
        }
      ]
    },
    {
      "cell_type": "markdown",
      "source": [
        "#Codercise I.2.3\n",
        "\n",
        "The second way to construct a QNode in PennyLane is using a **decorator**. Decorating a quantum function with @qml.qnode(dev) will automatically produce a QNode with the same name as your function that can be run on the device dev.\n",
        "\n",
        "The quantum function below implements the circuit from the previous exercise. Apply a decorator to the quantum function to construct a QNode, then run it using the provided input parameters."
      ],
      "metadata": {
        "id": "E4NrevXrs71j"
      }
    },
    {
      "cell_type": "code",
      "source": [
        "#Codercise I.2.3\n",
        "\n",
        "dev = qml.device(\"default.qubit\", wires=3)\n",
        "\n",
        "##################\n",
        "# YOUR CODE HERE #\n",
        "##################\n",
        "\n",
        "# DECORATE THE FUNCTION BELOW TO TURN IT INTO A QNODE\n",
        "\n",
        "@qml.qnode(dev)\n",
        "\n",
        "def my_circuit(theta, phi, omega):\n",
        "    qml.RX(theta, wires=0)\n",
        "    qml.RY(phi, wires=1)\n",
        "    qml.RZ(omega, wires=2)\n",
        "    qml.CNOT(wires=[0, 1])\n",
        "    qml.CNOT(wires=[1, 2])\n",
        "    qml.CNOT(wires=[2, 0])\n",
        "    return qml.probs(wires=[0, 1, 2])\n",
        "\n",
        "\n",
        "theta, phi, omega = 0.1, 0.2, 0.3\n",
        "\n",
        "##################\n",
        "# YOUR CODE HERE #\n",
        "##################\n",
        "\n",
        "# RUN THE QNODE WITH THE PROVIDED PARAMETERS\n",
        "\n",
        "my_circuit(theta, phi, omega)\n",
        "\n"
      ],
      "metadata": {
        "colab": {
          "base_uri": "https://localhost:8080/"
        },
        "id": "cWnTzENZ9fI4",
        "outputId": "94254a6b-dcdc-4536-d4eb-79f0209d9f28"
      },
      "execution_count": 18,
      "outputs": [
        {
          "output_type": "execute_result",
          "data": {
            "text/plain": [
              "array([9.87560268e-01, 0.00000000e+00, 0.00000000e+00, 2.47302134e-03,\n",
              "       2.48960206e-05, 0.00000000e+00, 0.00000000e+00, 9.94181506e-03])"
            ]
          },
          "metadata": {},
          "execution_count": 18
        }
      ]
    },
    {
      "cell_type": "markdown",
      "source": [
        "#Codercise I.2.4\n",
        "\n",
        "Remember our circuit from the previous section:\n",
        "![image.png](data:image/png;base64,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)\n",
        "\n",
        "What is the depth of the circuit in the picture above?"
      ],
      "metadata": {
        "id": "HUIDszmtuE5-"
      }
    },
    {
      "cell_type": "code",
      "source": [
        "#Codercise I.2.4\n",
        "\n",
        "dev = qml.device(\"default.qubit\", wires=3)\n",
        "\n",
        "\n",
        "@qml.qnode(dev)\n",
        "def my_circuit(theta, phi, omega):\n",
        "    qml.RX(theta, wires=0)\n",
        "    qml.RY(phi, wires=1)\n",
        "    qml.RZ(omega, wires=2)\n",
        "    qml.CNOT(wires=[0, 1])\n",
        "    qml.CNOT(wires=[1, 2])\n",
        "    qml.CNOT(wires=[2, 0])\n",
        "    return qml.probs(wires=[0, 1, 2])\n",
        "\n",
        "\n",
        "##################\n",
        "# YOUR CODE HERE #\n",
        "##################\n",
        "\n",
        "# FILL IN THE CORRECT CIRCUIT DEPTH\n",
        "depth = 4"
      ],
      "metadata": {
        "id": "goO5U10U9eQe"
      },
      "execution_count": 19,
      "outputs": []
    },
    {
      "cell_type": "markdown",
      "source": [
        "#Codercise I.3.1\n",
        "\n",
        "In PennyLane, unitary operations specified by a matrix can be implemented in a quantum circuit using the QubitUnitary operation. QubitUnitary is a parametrized gate, and can be called like so:\n",
        "\n",
        "    qml.QubitUnitary(U, wires=wire)\n",
        "\n",
        "Complete the quantum function below to create a circuit that applies $U$ to the qubit and returns its state. (Compare this to the earlier function apply_u that you wrote before - isn't it nice to not have to worry about the matrix arithmetic?)\n",
        "\n"
      ],
      "metadata": {
        "id": "HgWjGswZtnhE"
      }
    },
    {
      "cell_type": "code",
      "source": [
        "#Codercise I.3.1\n",
        "\n",
        "dev = qml.device(\"default.qubit\", wires=1)\n",
        "\n",
        "U = np.array([[1, 1], [1, -1]]) / np.sqrt(2)\n",
        "\n",
        "\n",
        "@qml.qnode(dev)\n",
        "def apply_u():\n",
        "\n",
        "    ##################\n",
        "    # YOUR CODE HERE #\n",
        "    ##################\n",
        "    qml.QubitUnitary(U, wires=0)\n",
        "\n",
        "    # USE QubitUnitary TO APPLY U TO THE QUBIT\n",
        "\n",
        "    # Return the state\n",
        "    return qml.state()\n"
      ],
      "metadata": {
        "id": "oP5EOMjBVzXQ"
      },
      "execution_count": 20,
      "outputs": []
    },
    {
      "cell_type": "markdown",
      "source": [
        "#Codercise I.3.2\n",
        "\n",
        "Unitary matrices can be parametrized. A single-qubit unitary operation can be expressed in terms of just three real numbers:\n",
        "\n",
        "$$\n",
        "U(\\phi, \\theta, \\omega)=\\left(\\begin{array}{cc}\n",
        "e^{-i(\\phi+\\omega) / 2} \\cos (\\theta / 2) & -e^{i(\\phi-\\omega) / 2} \\sin (\\theta / 2) \\\\\n",
        "e^{-i(\\phi-\\omega) / 2} \\sin (\\theta / 2) & e^{i(\\phi+\\omega) / 2} \\cos (\\theta / 2)\n",
        "\\end{array}\\right)\n",
        "$$\n",
        "\n",
        "\n",
        "In PennyLane, this parametrized operation is implemented as a gate called Rot. Rot takes three parameters, which are precisely the angles in the formula above:\n",
        "\n",
        "> qml.Rot(phi, theta, omega, wires=wire)\n",
        "\n",
        "Apply the Rot operation to a qubit using the input parameters. Then, complete the QNode to return the quantum state vector, using qml.state()."
      ],
      "metadata": {
        "id": "u6lrm_IuuHWo"
      }
    },
    {
      "cell_type": "code",
      "source": [
        "#Codercise I.3.2\n",
        "\n",
        "dev = qml.device(\"default.qubit\", wires=1)\n",
        "\n",
        "\n",
        "@qml.qnode(dev)\n",
        "def apply_u_as_rot(phi, theta, omega):\n",
        "\n",
        "    ##################\n",
        "    # YOUR CODE HERE #\n",
        "    ##################\n",
        "    qml.Rot(phi, theta, omega, wires=0)\n",
        "\n",
        "    # APPLY A ROT GATE USING THE PROVIDED INPUT PARAMETERS\n",
        "\n",
        "    # RETURN THE QUANTUM STATE VECTOR\n",
        "\n",
        "    return qml.state()\n"
      ],
      "metadata": {
        "id": "pDi-oJdQWEWf"
      },
      "execution_count": 21,
      "outputs": []
    }
  ]
}